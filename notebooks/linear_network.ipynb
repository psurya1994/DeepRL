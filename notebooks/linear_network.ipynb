{
 "cells": [
  {
   "cell_type": "code",
   "execution_count": 21,
   "metadata": {},
   "outputs": [],
   "source": [
    "import numpy as np\n",
    "import torch\n",
    "import torch.nn as nn\n",
    "import torch.nn.functional as F\n",
    "import tqdm as tqdm\n",
    "import matplotlib.pyplot as plt"
   ]
  },
  {
   "cell_type": "code",
   "execution_count": 22,
   "metadata": {},
   "outputs": [],
   "source": [
    "inputs = np.array([[0, 0, 0, 1, 0, 0, 0],\n",
    "                   [0, 0, 0, 0, 1, 0, 0],\n",
    "                   [0, 0, 0, 0, 0, 1, 0]], dtype='float32')\n",
    "targets = np.array([[0, 0, 0, 1, 0.99, 0.99**2, 0],\n",
    "                   [0, 0, 0, 0, 1, 0.99, 0],\n",
    "                   [0, 0, 0, 0, 0, 1, 0]], dtype='float32')\n",
    "inputs = torch.tensor(inputs)\n",
    "targets = torch.tensor(targets)"
   ]
  },
  {
   "cell_type": "code",
   "execution_count": 38,
   "metadata": {},
   "outputs": [],
   "source": [
    "class LinearNet(nn.Module):\n",
    "    def __init__(self, in_size=7, out_size=7):\n",
    "        super(LinearNet, self).__init__()\n",
    "        self.layer = nn.Linear(in_size, out_size) \n",
    "        # y = w x + b\n",
    "        # w_ = sqrt(w)\n",
    "        # y = w_ x + b\n",
    "\n",
    "    def forward(self, x):\n",
    "        y = self.layer(x)\n",
    "        return y"
   ]
  },
  {
   "cell_type": "code",
   "execution_count": 43,
   "metadata": {},
   "outputs": [
    {
     "data": {
      "text/plain": [
       "[<matplotlib.lines.Line2D at 0x7fb40cab2630>]"
      ]
     },
     "execution_count": 43,
     "metadata": {},
     "output_type": "execute_result"
    },
    {
     "data": {
      "image/png": "[encoded data removed]",
      "text/plain": [
       "<Figure size 432x288 with 1 Axes>"
      ]
     },
     "metadata": {},
     "output_type": "display_data"
    }
   ],
   "source": [
    "model = LinearNet()\n",
    "optimizer = torch.optim.SGD(model.parameters(), lr=1e-2)\n",
    "loss_vec = []\n",
    "\n",
    "for t in range(5000):\n",
    "    \n",
    "    y_pred = model(inputs)\n",
    "\n",
    "    # Compute and print loss\n",
    "    loss = (y_pred - targets).pow(2).mul(0.5).mean()\n",
    "    \n",
    "    loss_vec.append(loss.item())\n",
    "\n",
    "    # Zero gradients, perform a backward pass, and update the weights.\n",
    "    optimizer.zero_grad()\n",
    "    loss.backward()\n",
    "    optimizer.step()\n",
    "    \n",
    "plt.plot(loss_vec)"
   ]
  },
  {
   "cell_type": "code",
   "execution_count": 46,
   "metadata": {},
   "outputs": [],
   "source": [
    "import numpy as np\n",
    "A = np.array([[0.6, 0.4],[0.6,0.4]])"
   ]
  },
  {
   "cell_type": "code",
   "execution_count": 47,
   "metadata": {},
   "outputs": [
    {
     "data": {
      "text/plain": [
       "(array([1., 0.]), array([[ 0.70710678, -0.5547002 ],\n",
       "        [ 0.70710678,  0.83205029]]))"
      ]
     },
     "execution_count": 47,
     "metadata": {},
     "output_type": "execute_result"
    }
   ],
   "source": [
    "np.linalg.eig(A)"
   ]
  },
  {
   "cell_type": "code",
   "execution_count": 45,
   "metadata": {},
   "outputs": [
    {
     "name": "stdout",
     "output_type": "stream",
     "text": [
      "[[1. 0.]\n",
      " [0. 1.]]\n",
      "[[0.6 0.4]\n",
      " [0.6 0.4]]\n",
      "[[0.6 0.4]\n",
      " [0.6 0.4]]\n",
      "[[0.6 0.4]\n",
      " [0.6 0.4]]\n",
      "[[0.6 0.4]\n",
      " [0.6 0.4]]\n",
      "[[0.6 0.4]\n",
      " [0.6 0.4]]\n",
      "[[0.6 0.4]\n",
      " [0.6 0.4]]\n",
      "[[0.6 0.4]\n",
      " [0.6 0.4]]\n",
      "[[0.6 0.4]\n",
      " [0.6 0.4]]\n",
      "[[0.6 0.4]\n",
      " [0.6 0.4]]\n"
     ]
    }
   ],
   "source": [
    "v = np.identity(2)\n",
    "for i in range(10):\n",
    "    print(v)\n",
    "    v = v @ A"
   ]
  },
  {
   "cell_type": "markdown",
   "metadata": {},
   "source": [
    "### Ratio state count plots"
   ]
  },
  {
   "cell_type": "code",
   "execution_count": 197,
   "metadata": {},
   "outputs": [
    {
     "data": {
      "text/plain": [
       "array([0.6, 0.4])"
      ]
     },
     "execution_count": 197,
     "metadata": {},
     "output_type": "execute_result"
    }
   ],
   "source": [
    "np.array([0.6, 0.4]) @ P"
   ]
  },
  {
   "cell_type": "code",
   "execution_count": 233,
   "metadata": {},
   "outputs": [],
   "source": [
    "import matplotlib.pyplot as plt\n",
    "import scipy\n",
    "P = np.array([[0.6, 0.4], [0.6, 0.4]])\n",
    "start = 0\n",
    "STEPS = 2000"
   ]
  },
  {
   "cell_type": "code",
   "execution_count": 184,
   "metadata": {},
   "outputs": [],
   "source": [
    "state = start\n",
    "store = np.random.rand(STEPS)\n",
    "for i in range(STEPS):\n",
    "    state = np.argmax(np.random.multinomial(1, P[state]))\n",
    "    store[i] = state"
   ]
  },
  {
   "cell_type": "code",
   "execution_count": 185,
   "metadata": {},
   "outputs": [
    {
     "data": {
      "image/png": "[encoded data removed]",
      "text/plain": [
       "<Figure size 432x288 with 1 Axes>"
      ]
     },
     "metadata": {},
     "output_type": "display_data"
    }
   ],
   "source": [
    "count0 = np.cumsum(store==0)\n",
    "count1 = np.cumsum(store==1)\n",
    "plt.plot(np.divide(count0, count0+count1))\n",
    "plt.show()"
   ]
  },
  {
   "cell_type": "code",
   "execution_count": 177,
   "metadata": {},
   "outputs": [],
   "source": [
    "# pi = np.array([[0.6, 0.4],[0.4,0.6]])\n",
    "# P = np.array([[[1,0],[0,1]],[[0,1],[1,0]]])\n",
    "\n",
    "pi = np.array([[1, 0],[1,0]])\n",
    "P = np.array([[[0.6,0.4],[0.6,0.4]],[[0,1],[1,0]]])\n",
    "P_pi = np.vstack([np.dot(pi[i],P[:,i,:]) for i in range(2)])"
   ]
  },
  {
   "cell_type": "code",
   "execution_count": 209,
   "metadata": {},
   "outputs": [
    {
     "data": {
      "text/plain": [
       "array([[0.6, 0.4],\n",
       "       [0.6, 0.4]])"
      ]
     },
     "execution_count": 209,
     "metadata": {},
     "output_type": "execute_result"
    }
   ],
   "source": [
    "P_pi"
   ]
  },
  {
   "cell_type": "code",
   "execution_count": 240,
   "metadata": {},
   "outputs": [
    {
     "name": "stdout",
     "output_type": "stream",
     "text": [
      "[0.43960781 0.56039219]\n"
     ]
    }
   ],
   "source": [
    "ss = scipy.linalg.eig(P_pi, left=True,right=False)[1][1]\n",
    "ss = ss/np.sum(ss)\n",
    "print(ss)"
   ]
  }
 ],
 "metadata": {
  "kernelspec": {
   "display_name": "Python 3",
   "language": "python",
   "name": "python3"
  },
  "language_info": {
   "codemirror_mode": {
    "name": "ipython",
    "version": 3
   },
   "file_extension": ".py",
   "mimetype": "text/x-python",
   "name": "python",
   "nbconvert_exporter": "python",
   "pygments_lexer": "ipython3",
   "version": "3.6.5"
  }
 },
 "nbformat": 4,
 "nbformat_minor": 2
}
