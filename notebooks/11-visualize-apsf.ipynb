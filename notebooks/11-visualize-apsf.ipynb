{
 "cells": [
  {
   "cell_type": "code",
   "execution_count": 2,
   "metadata": {},
   "outputs": [
    {
     "name": "stderr",
     "output_type": "stream",
     "text": [
      "/home/surya/anaconda3/lib/python3.6/site-packages/tensorflow/python/framework/dtypes.py:523: FutureWarning: Passing (type, 1) or '1type' as a synonym of type is deprecated; in a future version of numpy, it will be understood as (type, (1,)) / '(1,)type'.\n",
      "  _np_qint8 = np.dtype([(\"qint8\", np.int8, 1)])\n",
      "/home/surya/anaconda3/lib/python3.6/site-packages/tensorflow/python/framework/dtypes.py:524: FutureWarning: Passing (type, 1) or '1type' as a synonym of type is deprecated; in a future version of numpy, it will be understood as (type, (1,)) / '(1,)type'.\n",
      "  _np_quint8 = np.dtype([(\"quint8\", np.uint8, 1)])\n",
      "/home/surya/anaconda3/lib/python3.6/site-packages/tensorflow/python/framework/dtypes.py:525: FutureWarning: Passing (type, 1) or '1type' as a synonym of type is deprecated; in a future version of numpy, it will be understood as (type, (1,)) / '(1,)type'.\n",
      "  _np_qint16 = np.dtype([(\"qint16\", np.int16, 1)])\n",
      "/home/surya/anaconda3/lib/python3.6/site-packages/tensorflow/python/framework/dtypes.py:526: FutureWarning: Passing (type, 1) or '1type' as a synonym of type is deprecated; in a future version of numpy, it will be understood as (type, (1,)) / '(1,)type'.\n",
      "  _np_quint16 = np.dtype([(\"quint16\", np.uint16, 1)])\n",
      "/home/surya/anaconda3/lib/python3.6/site-packages/tensorflow/python/framework/dtypes.py:527: FutureWarning: Passing (type, 1) or '1type' as a synonym of type is deprecated; in a future version of numpy, it will be understood as (type, (1,)) / '(1,)type'.\n",
      "  _np_qint32 = np.dtype([(\"qint32\", np.int32, 1)])\n",
      "/home/surya/anaconda3/lib/python3.6/site-packages/tensorflow/python/framework/dtypes.py:532: FutureWarning: Passing (type, 1) or '1type' as a synonym of type is deprecated; in a future version of numpy, it will be understood as (type, (1,)) / '(1,)type'.\n",
      "  np_resource = np.dtype([(\"resource\", np.ubyte, 1)])\n",
      "/home/surya/anaconda3/lib/python3.6/site-packages/h5py/__init__.py:36: FutureWarning: Conversion of the second argument of issubdtype from `float` to `np.floating` is deprecated. In future, it will be treated as `np.float64 == np.dtype(float).type`.\n",
      "  from ._conv import register_converters as _register_converters\n"
     ]
    }
   ],
   "source": [
    "import sys,os\n",
    "sys.path.append('../')\n",
    "from deep_rl import *\n",
    "import matplotlib.pyplot as plt\n",
    "import torch\n",
    "from tqdm.notebook import trange, tqdm\n",
    "import random\n",
    "import numpy as np\n",
    "import pickle\n",
    "\n",
    "%load_ext autoreload\n",
    "%reload_ext autoreload\n",
    "%autoreload 2"
   ]
  },
  {
   "cell_type": "code",
   "execution_count": 3,
   "metadata": {},
   "outputs": [],
   "source": [
    "def avdsr_feature(**kwargs):\n",
    "    kwargs['tag'] = 'Training avDSR based on DQN agents'\n",
    "    generate_tag(kwargs)\n",
    "    kwargs.setdefault('log_level', 0)\n",
    "    config = Config()\n",
    "    config.merge(kwargs)\n",
    "\n",
    "    config.task_fn = lambda: Task(config.game)\n",
    "    config.eval_env = config.task_fn()\n",
    "    config.c = 1\n",
    "\n",
    "    config.optimizer_fn = lambda params: torch.optim.RMSprop(params, 0.002)\n",
    "#     config.network_fn = lambda: SRNet(config.action_dim, SRIdentityBody(config.state_dim), hidden_units=(), config=0) #CHECK\n",
    "    config.network_fn = lambda: SRNetCNN(config.action_dim, SRIdentityBody(config.state_dim), \n",
    "                                         hidden_units=(2000,), config=0)\n",
    "    config.replay_fn = lambda: Replay(memory_size=int(4e5), batch_size=10)\n",
    "\n",
    "    config.random_action_prob = LinearSchedule(1, 1, 1e4) # CHECK\n",
    "    config.discount = 0.99\n",
    "    config.target_network_update_freq = 200\n",
    "    config.exploration_steps = 0\n",
    "    # config.double_q = True\n",
    "    config.double_q = False\n",
    "    config.sgd_update_frequency = 4\n",
    "    config.gradient_clip = 5\n",
    "    config.max_steps = 3e5\n",
    "    config.async_actor = False\n",
    "    \n",
    "    agent = avDSRAgent(config, config.agents, style='DQN')\n",
    "    return agent\n",
    "    #run_steps function below\n",
    "    config = agent.config\n",
    "    agent_name = agent.__class__.__name__\n",
    "    t0 = time.time()\n",
    "    while True:\n",
    "        if config.log_interval and not agent.total_steps % config.log_interval:\n",
    "            agent.logger.info('steps %d, %.2f steps/s' % (agent.total_steps, config.log_interval / (time.time() - t0)))\n",
    "            t0 = time.time()\n",
    "        if config.max_steps and agent.total_steps >= config.max_steps:\n",
    "            return agent\n",
    "            break\n",
    "        agent.step()\n",
    "        agent.switch_task()"
   ]
  },
  {
   "cell_type": "code",
   "execution_count": 4,
   "metadata": {},
   "outputs": [],
   "source": [
    "avdsr = avdsr_feature(game='FourRoomsMatrixNoTerm', agents=[], choice=0)"
   ]
  },
  {
   "cell_type": "code",
   "execution_count": 10,
   "metadata": {},
   "outputs": [
    {
     "data": {
      "text/plain": [
       "IncompatibleKeys(missing_keys=[], unexpected_keys=[])"
      ]
     },
     "execution_count": 10,
     "metadata": {},
     "output_type": "execute_result"
    }
   ],
   "source": [
    "weights = torch.load('../storage/24-300000-avdsr.weights', map_location='cpu').state_dict()\n",
    "avdsr.network.load_state_dict(weights,strict=True)"
   ]
  },
  {
   "cell_type": "code",
   "execution_count": null,
   "metadata": {},
   "outputs": [],
   "source": [
    "with open('../storage/15-loss.p', 'rb') as f:\n",
    "    loss_vec = pickle.load(f)\n",
    "kernel = 200\n",
    "plt.figure(figsize=(6,4), dpi=100)\n",
    "plt.plot(convolve(loss_vec, kernel))\n",
    "plt.title('Loss during unsupervised learning phase, smoothing=' + str(kernel)) \n",
    "plt.xlabel('batch index'), plt.ylabel('$\\psi(s,a,s\\')$')\n",
    "plt.show()"
   ]
  },
  {
   "cell_type": "code",
   "execution_count": null,
   "metadata": {},
   "outputs": [],
   "source": []
  },
  {
   "cell_type": "code",
   "execution_count": 16,
   "metadata": {},
   "outputs": [
    {
     "data": {
      "image/png": "[encoded data removed]",
      "text/plain": [
       "<Figure size 432x288 with 1 Axes>"
      ]
     },
     "metadata": {},
     "output_type": "display_data"
    },
    {
     "data": {
      "image/png": "[encoded data removed]",
      "text/plain": [
       "<Figure size 600x400 with 8 Axes>"
      ]
     },
     "metadata": {},
     "output_type": "display_data"
    }
   ],
   "source": [
    "from deep_rl.component.fourrooms import *\n",
    "g = [21, 28, 84, 91]\n",
    "env = FourRoomsMatrix(layout='4rooms')\n",
    "state = env.reset(init=60)\n",
    "# env = FourRoomsMatrix(layout='3rooms')\n",
    "# state = env.reset(init=40)\n",
    "# env.current_cell = (3,2)\n",
    "# state, _, _, _ = env.step(env.action_space.sample())\n",
    "plt.imshow(env.render()); plt.title('input state'), plt.show()\n",
    "_, out, _ = avdsr.network(tensor(state).unsqueeze(0))\n",
    "# plt.imshow(state.reshape((13,13))), plt.show()\n",
    "\n",
    "dirs = {0: 'up', 1: 'down', 2:'left', 3:'right'}\n",
    "\n",
    "plt.figure(dpi=100)\n",
    "psi = out.detach().cpu().numpy()\n",
    "for i in range(4):\n",
    "    psi_a = psi[0,i,:]\n",
    "    plt.subplot(2,2,i+1)\n",
    "    plt.imshow(psi_a.reshape((13,13)))\n",
    "    plt.title(dirs[i])\n",
    "    plt.colorbar()\n",
    "\n",
    "plt.show()\n"
   ]
  },
  {
   "cell_type": "code",
   "execution_count": null,
   "metadata": {},
   "outputs": [],
   "source": [
    "from deep_rl.component.fourrooms import *\n",
    "env = FourRoomsMatrix(layout='3rooms')\n",
    "g = [21, 28, 84, 91]\n",
    "state = env.reset(init=40)\n",
    "# env.current_cell = (3,2)\n",
    "# state, _, _, _ = env.step(env.action_space.sample())\n",
    "plt.imshow(env.render()); plt.title('input state'), plt.show()\n",
    "_, out, _ = avdsr.network(tensor(state).unsqueeze(0))\n",
    "# plt.imshow(state.reshape((13,13))), plt.show()\n",
    "\n",
    "dirs = {0: 'up', 1: 'down', 2:'left', 3:'right'}\n",
    "\n",
    "plt.figure(dpi=100)\n",
    "psi = out.detach().cpu().numpy()\n",
    "for i in range(4):\n",
    "    psi_a = psi[0,i,:]\n",
    "    plt.subplot(2,2,i+1)\n",
    "    plt.imshow(psi_a.reshape((13,13)))\n",
    "    plt.title(dirs[i])\n",
    "    plt.colorbar()\n",
    "\n",
    "plt.show()"
   ]
  },
  {
   "cell_type": "code",
   "execution_count": 47,
   "metadata": {},
   "outputs": [
    {
     "data": {
      "text/plain": [
       "IncompatibleKeys(missing_keys=[], unexpected_keys=[])"
      ]
     },
     "execution_count": 47,
     "metadata": {},
     "output_type": "execute_result"
    }
   ],
   "source": [
    "avdsr = avdsr_feature(game='FourRoomsMatrixNoTerm', agents=[], choice=0)\n",
    "weights = torch.load('../storage/15-300000-avdsr.weights', map_location='cpu').state_dict()\n",
    "avdsr.network.load_state_dict(weights,strict=True)"
   ]
  },
  {
   "cell_type": "code",
   "execution_count": 44,
   "metadata": {},
   "outputs": [
    {
     "data": {
      "text/plain": [
       "SRNetCNN(\n",
       "  (body): SRIdentityBody()\n",
       "  (conv1): Conv2d(1, 64, kernel_size=(3, 3), stride=(1, 1))\n",
       "  (conv2): Conv2d(64, 128, kernel_size=(3, 3), stride=(1, 1))\n",
       "  (layers): ModuleList(\n",
       "    (0): Linear(in_features=2048, out_features=2000, bias=True)\n",
       "    (1): Linear(in_features=2000, out_features=676, bias=True)\n",
       "  )\n",
       "  (psi2q): Psi2QNet()\n",
       ")"
      ]
     },
     "execution_count": 44,
     "metadata": {},
     "output_type": "execute_result"
    }
   ],
   "source": [
    "avdsr.network"
   ]
  }
 ],
 "metadata": {
  "kernelspec": {
   "display_name": "Python 3",
   "language": "python",
   "name": "python3"
  }
 },
 "nbformat": 4,
 "nbformat_minor": 2
}
