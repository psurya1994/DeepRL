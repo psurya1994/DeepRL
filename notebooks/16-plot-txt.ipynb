{
 "cells": [
  {
   "cell_type": "code",
   "execution_count": 1,
   "metadata": {},
   "outputs": [],
   "source": [
    "import sys,os\n",
    "import matplotlib.pyplot as plt\n",
    "sys.path.append('../')\n",
    "import numpy as np"
   ]
  },
  {
   "cell_type": "code",
   "execution_count": 3,
   "metadata": {},
   "outputs": [],
   "source": [
    "import re\n",
    "def log2list(filename):\n",
    "    returns_train = []\n",
    "    returns_test = []\n",
    "    with open(filename, 'rb') as f:\n",
    "        while True:\n",
    "            line = f.readline()\n",
    "            split = re.split('\\s', str(line))\n",
    "            if not line:\n",
    "                break\n",
    "            if('episodic_return_train' in split):\n",
    "                returns_train.append(float(split[-1][:-3]))\n",
    "            if('episodic_return_test' in split):\n",
    "                returns_test.append(float(split[-1][:-10]))\n",
    "                \n",
    "    return returns_train, returns_test"
   ]
  },
  {
   "cell_type": "code",
   "execution_count": 10,
   "metadata": {},
   "outputs": [
    {
     "name": "stdout",
     "output_type": "stream",
     "text": [
      "BoxingNoFrameskip-v0-async_replay_False-n_step_1-replay_cls_UniformReplay-run-0-200929-164241.txt\n",
      "BreakoutNoFrameskip-v4-async_replay_False-n_step_1-replay_cls_UniformReplay-run-0-200830-163321.txt\n",
      "BreakoutNoFrameskip-v4-async_replay_False-n_step_1-replay_cls_UniformReplay-run-0-200831-184310.txt\n",
      "BreakoutNoFrameskip-v4-async_replay_False-n_step_1-replay_cls_UniformReplay-run-0-200831-184544.txt\n",
      "BreakoutNoFrameskip-v4-async_replay_False-n_step_1-replay_cls_UniformReplay-run-0-200902-120032.txt\n",
      "BreakoutNoFrameskip-v4-async_replay_False-n_step_1-replay_cls_UniformReplay-run-0-200911-142345.txt\n",
      "BreakoutNoFrameskip-v4-async_replay_False-n_step_1-replay_cls_UniformReplay-run-0-200916-145242.txt\n",
      "BreakoutNoFrameskip-v4-async_replay_False-n_step_1-replay_cls_UniformReplay-run-0-200920-171908.txt\n",
      "BreakoutNoFrameskip-v4-async_replay_False-n_step_1-replay_cls_UniformReplay-run-0-200929-094916.txt\n",
      "BreakoutNoFrameskip-v4-async_replay_False-n_step_1-replay_cls_UniformReplay-run-0-200929-113741.txt\n"
     ]
    }
   ],
   "source": [
    "%ls ../../tmp-deeprl/log"
   ]
  },
  {
   "cell_type": "code",
   "execution_count": 11,
   "metadata": {},
   "outputs": [],
   "source": [
    "dsr_file = '../../tmp-deeprl/log/BoxingNoFrameskip-v0-async_replay_False-n_step_1-replay_cls_UniformReplay-run-0-200929-164241.txt'\n",
    "train, test = log2list(dsr_file)"
   ]
  },
  {
   "cell_type": "code",
   "execution_count": 12,
   "metadata": {},
   "outputs": [
    {
     "data": {
      "text/plain": [
       "[<matplotlib.lines.Line2D at 0x7fb18e6520d0>]"
      ]
     },
     "execution_count": 12,
     "metadata": {},
     "output_type": "execute_result"
    },
    {
     "data": {
      "image/png": "[encoded data removed]",
      "text/plain": [
       "<Figure size 432x288 with 1 Axes>"
      ]
     },
     "metadata": {
      "needs_background": "light"
     },
     "output_type": "display_data"
    }
   ],
   "source": [
    "plt.plot(np.convolve(train, np.ones(11)/11))"
   ]
  },
  {
   "cell_type": "code",
   "execution_count": null,
   "metadata": {},
   "outputs": [],
   "source": []
  }
 ],
 "metadata": {
  "kernelspec": {
   "display_name": "Python 3",
   "language": "python",
   "name": "python3"
  },
  "language_info": {
   "codemirror_mode": {
    "name": "ipython",
    "version": 3
   },
   "file_extension": ".py",
   "mimetype": "text/x-python",
   "name": "python",
   "nbconvert_exporter": "python",
   "pygments_lexer": "ipython3",
   "version": "3.7.4"
  }
 },
 "nbformat": 4,
 "nbformat_minor": 4
}
