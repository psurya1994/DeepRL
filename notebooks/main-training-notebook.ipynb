{
 "cells": [
  {
   "cell_type": "markdown",
   "metadata": {},
   "source": [
    "## Code to train DQN with APSF representations"
   ]
  },
  {
   "cell_type": "code",
   "execution_count": 1,
   "metadata": {},
   "outputs": [],
   "source": [
    "import sys,os\n",
    "sys.path.append('../')\n",
    "from deep_rl import *\n",
    "import matplotlib.pyplot as plt\n",
    "import torch\n",
    "from tqdm import trange, tqdm\n",
    "import random\n",
    "import numpy as np\n",
    "%load_ext autoreload\n",
    "%reload_ext autoreload\n",
    "%autoreload 2"
   ]
  },
  {
   "cell_type": "code",
   "execution_count": 2,
   "metadata": {},
   "outputs": [],
   "source": [
    "def dqn_feature(**kwargs):\n",
    "    generate_tag(kwargs)\n",
    "    kwargs.setdefault('log_level', 0)\n",
    "    config = Config()\n",
    "    config.merge(kwargs)\n",
    "\n",
    "    config.task_fn = lambda: Task(config.game)\n",
    "    config.eval_env = config.task_fn()\n",
    "\n",
    "    config.optimizer_fn = lambda params: torch.optim.RMSprop(params, 0.001)\n",
    "    config.network_fn = lambda: VanillaNet(config.action_dim, FCBody(config.state_dim, hidden_units=(16,)))\n",
    "    config.replay_fn = lambda: AsyncReplay(memory_size=int(1e4), batch_size=10)\n",
    "\n",
    "    config.random_action_prob = LinearSchedule(1.0, 0.1, 3e4)\n",
    "    config.discount = 0.99\n",
    "    config.target_network_update_freq = 200\n",
    "    config.exploration_steps = 0\n",
    "    # config.double_q = True\n",
    "    config.double_q = False\n",
    "    config.sgd_update_frequency = 4\n",
    "    config.gradient_clip = 5\n",
    "    config.eval_interval = int(5e3)\n",
    "    config.max_steps = 5e4\n",
    "    config.async_actor = False\n",
    "    agent = DQNAgent(config)\n",
    "    #run_steps function below\n",
    "    config = agent.config\n",
    "    agent_name = agent.__class__.__name__\n",
    "    t0 = time.time()\n",
    "    while True:\n",
    "        if config.save_interval and not agent.total_steps % config.save_interval:\n",
    "            agent.save('data/%s-%s-%d' % (agent_name, config.tag, agent.total_steps))\n",
    "        if config.log_interval and not agent.total_steps % config.log_interval:\n",
    "            t0 = time.time()\n",
    "        if config.eval_interval and not agent.total_steps % config.eval_interval:\n",
    "            agent.eval_episodes()\n",
    "            pass\n",
    "        if config.max_steps and agent.total_steps >= config.max_steps:\n",
    "            return agent\n",
    "            break\n",
    "        agent.step()\n",
    "        agent.switch_task()\n",
    "    return agent"
   ]
  },
  {
   "cell_type": "code",
   "execution_count": 3,
   "metadata": {},
   "outputs": [
    {
     "name": "stderr",
     "output_type": "stream",
     "text": [
      "2020-10-31 10:50:08,894 - root - INFO: steps 0, episodic_return_test -200.00(0.00)\n",
      "2020-10-31 10:50:13,322 - root - INFO: steps 5000, episodic_return_test -180.10(18.88)\n",
      "2020-10-31 10:50:16,534 - root - INFO: steps 10000, episodic_return_test -160.10(25.24)\n",
      "2020-10-31 10:50:19,752 - root - INFO: steps 15000, episodic_return_test -180.20(18.78)\n",
      "2020-10-31 10:50:22,898 - root - INFO: steps 20000, episodic_return_test -121.90(30.26)\n",
      "2020-10-31 10:50:26,098 - root - INFO: steps 25000, episodic_return_test -141.40(28.31)\n",
      "2020-10-31 10:50:29,254 - root - INFO: steps 30000, episodic_return_test -121.20(30.52)\n",
      "2020-10-31 10:50:32,352 - root - INFO: steps 35000, episodic_return_test -102.40(30.87)\n",
      "2020-10-31 10:50:35,416 - root - INFO: steps 40000, episodic_return_test -43.60(24.74)\n",
      "2020-10-31 10:50:38,414 - root - INFO: steps 45000, episodic_return_test -8.40(1.51)\n",
      "2020-10-31 10:50:41,455 - root - INFO: steps 50000, episodic_return_test -27.50(18.23)\n",
      "2020-10-31 10:50:44,437 - root - INFO: steps 55000, episodic_return_test -124.30(29.32)\n",
      "2020-10-31 10:50:47,187 - root - INFO: steps 60000, episodic_return_test -7.50(1.54)\n",
      "2020-10-31 10:50:50,198 - root - INFO: steps 65000, episodic_return_test -26.20(18.37)\n",
      "2020-10-31 10:50:53,186 - root - INFO: steps 70000, episodic_return_test -6.10(1.01)\n",
      "2020-10-31 10:50:56,217 - root - INFO: steps 75000, episodic_return_test -7.30(1.63)\n",
      "2020-10-31 10:50:59,271 - root - INFO: steps 80000, episodic_return_test -7.70(1.36)\n",
      "2020-10-31 10:51:02,277 - root - INFO: steps 85000, episodic_return_test -6.80(1.07)\n",
      "2020-10-31 10:51:05,308 - root - INFO: steps 90000, episodic_return_test -7.30(1.41)\n",
      "2020-10-31 10:51:08,310 - root - INFO: steps 95000, episodic_return_test -6.30(0.95)\n",
      "2020-10-31 10:51:11,343 - root - INFO: steps 100000, episodic_return_test -5.70(1.22)\n"
     ]
    }
   ],
   "source": [
    "game = 'FourRoomsMatrix'\n",
    "agent = dqn_feature(game=game)"
   ]
  },
  {
   "cell_type": "code",
   "execution_count": 4,
   "metadata": {},
   "outputs": [],
   "source": [
    "# plt.figure(figsize=(18,6))\n",
    "# plt.plot(np.array(agent.returns)[:,0], np.array(agent.returns)[:,1], '.-')\n",
    "# plt.xlabel('timesteps'), plt.ylabel('returns')\n",
    "# plt.title('DQN performance on ' + game), plt.show()"
   ]
  },
  {
   "cell_type": "markdown",
   "metadata": {},
   "source": [
    "### Learning the state representations using APSF"
   ]
  },
  {
   "cell_type": "code",
   "execution_count": 5,
   "metadata": {},
   "outputs": [],
   "source": [
    "def avdsr_feature(**kwargs):\n",
    "    kwargs['tag'] = 'Training avDSR based on DQN agents'\n",
    "    generate_tag(kwargs)\n",
    "    kwargs.setdefault('log_level', 0)\n",
    "    config = Config()\n",
    "    config.merge(kwargs)\n",
    "\n",
    "    config.task_fn = lambda: Task(config.game)\n",
    "    config.eval_env = config.task_fn()\n",
    "    config.c = 1\n",
    "\n",
    "    config.optimizer_fn = lambda params: torch.optim.RMSprop(params, 0.002)\n",
    "    config.network_fn = lambda: SRNet(config.action_dim, SRIdentityBody(config.state_dim), \\\n",
    "                                      hidden_units=(), config=0) #CHECK\n",
    "    config.replay_fn = lambda: Replay(memory_size=int(3e5), batch_size=10)\n",
    "\n",
    "    config.random_action_prob = LinearSchedule(1, 1, 1e4) # CHECK\n",
    "    config.discount = 0.99\n",
    "    config.target_network_update_freq = 200\n",
    "    config.exploration_steps = 0\n",
    "    config.double_q = False\n",
    "    config.sgd_update_frequency = 4\n",
    "    config.gradient_clip = 5\n",
    "    config.max_steps = 1e5\n",
    "    config.async_actor = False\n",
    "    \n",
    "    agent = avDSRAgent(config, config.agents, style='DQN')\n",
    "    #run_steps function below\n",
    "    config = agent.config\n",
    "    agent_name = agent.__class__.__name__\n",
    "    t0 = time.time()\n",
    "    while True:\n",
    "        if config.log_interval and not agent.total_steps % config.log_interval:\n",
    "            agent.logger.info('steps %d, %.2f steps/s' % (agent.total_steps, config.log_interval / (time.time() - t0)))\n",
    "            t0 = time.time()\n",
    "        if config.max_steps and agent.total_steps >= config.max_steps:\n",
    "            return agent\n",
    "            break\n",
    "#         import pdb; pdb.set_trace()\n",
    "        agent.step()\n",
    "        agent.switch_task()"
   ]
  },
  {
   "cell_type": "code",
   "execution_count": 6,
   "metadata": {
    "scrolled": true
   },
   "outputs": [
    {
     "name": "stderr",
     "output_type": "stream",
     "text": [
      "2020-10-31 10:51:15,003 - root - INFO: steps 0, 322638769.23 steps/s\n",
      "2020-10-31 10:51:16,080 - root - INFO: steps 1000, 930.38 steps/s\n",
      "2020-10-31 10:51:17,105 - root - INFO: steps 2000, 977.74 steps/s\n",
      "2020-10-31 10:51:18,112 - root - INFO: steps 3000, 993.75 steps/s\n",
      "2020-10-31 10:51:19,143 - root - INFO: steps 4000, 971.92 steps/s\n",
      "2020-10-31 10:51:20,245 - root - INFO: steps 5000, 908.28 steps/s\n",
      "2020-10-31 10:51:21,334 - root - INFO: steps 6000, 920.12 steps/s\n",
      "2020-10-31 10:51:22,418 - root - INFO: steps 7000, 923.32 steps/s\n",
      "2020-10-31 10:51:23,515 - root - INFO: steps 8000, 913.18 steps/s\n",
      "2020-10-31 10:51:24,626 - root - INFO: steps 9000, 901.45 steps/s\n",
      "2020-10-31 10:51:25,749 - root - INFO: steps 10000, 891.92 steps/s\n",
      "2020-10-31 10:51:26,835 - root - INFO: steps 11000, 922.37 steps/s\n",
      "2020-10-31 10:51:27,942 - root - INFO: steps 12000, 904.27 steps/s\n",
      "2020-10-31 10:51:29,079 - root - INFO: steps 13000, 880.97 steps/s\n",
      "2020-10-31 10:51:30,218 - root - INFO: steps 14000, 878.74 steps/s\n",
      "2020-10-31 10:51:31,371 - root - INFO: steps 15000, 868.58 steps/s\n",
      "2020-10-31 10:51:32,463 - root - INFO: steps 16000, 917.06 steps/s\n",
      "2020-10-31 10:51:33,539 - root - INFO: steps 17000, 931.01 steps/s\n",
      "2020-10-31 10:51:34,664 - root - INFO: steps 18000, 890.40 steps/s\n",
      "2020-10-31 10:51:35,781 - root - INFO: steps 19000, 896.59 steps/s\n",
      "2020-10-31 10:51:36,853 - root - INFO: steps 20000, 934.08 steps/s\n",
      "2020-10-31 10:51:37,944 - root - INFO: steps 21000, 917.88 steps/s\n",
      "2020-10-31 10:51:39,037 - root - INFO: steps 22000, 916.25 steps/s\n",
      "2020-10-31 10:51:40,137 - root - INFO: steps 23000, 910.60 steps/s\n",
      "2020-10-31 10:51:41,210 - root - INFO: steps 24000, 932.55 steps/s\n",
      "2020-10-31 10:51:42,288 - root - INFO: steps 25000, 929.01 steps/s\n",
      "2020-10-31 10:51:43,378 - root - INFO: steps 26000, 918.94 steps/s\n",
      "2020-10-31 10:51:44,492 - root - INFO: steps 27000, 899.08 steps/s\n",
      "2020-10-31 10:51:45,616 - root - INFO: steps 28000, 891.06 steps/s\n",
      "2020-10-31 10:51:46,785 - root - INFO: steps 29000, 856.79 steps/s\n",
      "2020-10-31 10:51:47,856 - root - INFO: steps 30000, 935.17 steps/s\n",
      "2020-10-31 10:51:48,968 - root - INFO: steps 31000, 900.19 steps/s\n",
      "2020-10-31 10:51:50,068 - root - INFO: steps 32000, 910.26 steps/s\n",
      "2020-10-31 10:51:51,167 - root - INFO: steps 33000, 911.13 steps/s\n",
      "2020-10-31 10:51:52,258 - root - INFO: steps 34000, 918.53 steps/s\n",
      "2020-10-31 10:51:53,392 - root - INFO: steps 35000, 882.62 steps/s\n",
      "2020-10-31 10:51:54,492 - root - INFO: steps 36000, 910.38 steps/s\n",
      "2020-10-31 10:51:55,567 - root - INFO: steps 37000, 932.19 steps/s\n",
      "2020-10-31 10:51:56,570 - root - INFO: steps 38000, 998.02 steps/s\n",
      "2020-10-31 10:51:57,558 - root - INFO: steps 39000, 1013.88 steps/s\n",
      "2020-10-31 10:51:58,581 - root - INFO: steps 40000, 978.84 steps/s\n",
      "2020-10-31 10:51:59,591 - root - INFO: steps 41000, 991.72 steps/s\n",
      "2020-10-31 10:52:00,588 - root - INFO: steps 42000, 1004.42 steps/s\n",
      "2020-10-31 10:52:01,656 - root - INFO: steps 43000, 938.43 steps/s\n",
      "2020-10-31 10:52:02,738 - root - INFO: steps 44000, 925.99 steps/s\n",
      "2020-10-31 10:52:03,840 - root - INFO: steps 45000, 908.70 steps/s\n",
      "2020-10-31 10:52:04,952 - root - INFO: steps 46000, 900.29 steps/s\n",
      "2020-10-31 10:52:06,057 - root - INFO: steps 47000, 906.30 steps/s\n",
      "2020-10-31 10:52:07,173 - root - INFO: steps 48000, 897.23 steps/s\n",
      "2020-10-31 10:52:08,462 - root - INFO: steps 49000, 776.54 steps/s\n",
      "2020-10-31 10:52:09,763 - root - INFO: steps 50000, 770.78 steps/s\n",
      "2020-10-31 10:52:10,981 - root - INFO: steps 51000, 821.71 steps/s\n",
      "2020-10-31 10:52:12,087 - root - INFO: steps 52000, 905.87 steps/s\n",
      "2020-10-31 10:52:13,166 - root - INFO: steps 53000, 927.54 steps/s\n",
      "2020-10-31 10:52:14,243 - root - INFO: steps 54000, 929.79 steps/s\n",
      "2020-10-31 10:52:15,372 - root - INFO: steps 55000, 887.49 steps/s\n",
      "2020-10-31 10:52:16,480 - root - INFO: steps 56000, 903.72 steps/s\n",
      "2020-10-31 10:52:17,571 - root - INFO: steps 57000, 917.81 steps/s\n",
      "2020-10-31 10:52:18,680 - root - INFO: steps 58000, 903.10 steps/s\n",
      "2020-10-31 10:52:19,773 - root - INFO: steps 59000, 916.04 steps/s\n",
      "2020-10-31 10:52:20,878 - root - INFO: steps 60000, 906.75 steps/s\n",
      "2020-10-31 10:52:21,968 - root - INFO: steps 61000, 918.75 steps/s\n",
      "2020-10-31 10:52:23,059 - root - INFO: steps 62000, 917.64 steps/s\n",
      "2020-10-31 10:52:24,154 - root - INFO: steps 63000, 914.82 steps/s\n",
      "2020-10-31 10:52:25,285 - root - INFO: steps 64000, 885.69 steps/s\n",
      "2020-10-31 10:52:26,392 - root - INFO: steps 65000, 904.69 steps/s\n",
      "2020-10-31 10:52:27,499 - root - INFO: steps 66000, 904.52 steps/s\n",
      "2020-10-31 10:52:28,629 - root - INFO: steps 67000, 886.27 steps/s\n",
      "2020-10-31 10:52:29,725 - root - INFO: steps 68000, 913.15 steps/s\n",
      "2020-10-31 10:52:30,724 - root - INFO: steps 69000, 1002.69 steps/s\n",
      "2020-10-31 10:52:31,711 - root - INFO: steps 70000, 1014.64 steps/s\n",
      "2020-10-31 10:52:32,706 - root - INFO: steps 71000, 1007.45 steps/s\n",
      "2020-10-31 10:52:33,709 - root - INFO: steps 72000, 998.56 steps/s\n",
      "2020-10-31 10:52:34,738 - root - INFO: steps 73000, 973.08 steps/s\n",
      "2020-10-31 10:52:35,852 - root - INFO: steps 74000, 898.92 steps/s\n",
      "2020-10-31 10:52:36,933 - root - INFO: steps 75000, 926.30 steps/s\n",
      "2020-10-31 10:52:38,019 - root - INFO: steps 76000, 921.94 steps/s\n",
      "2020-10-31 10:52:39,137 - root - INFO: steps 77000, 896.40 steps/s\n",
      "2020-10-31 10:52:40,238 - root - INFO: steps 78000, 909.56 steps/s\n",
      "2020-10-31 10:52:41,326 - root - INFO: steps 79000, 920.42 steps/s\n",
      "2020-10-31 10:52:42,406 - root - INFO: steps 80000, 927.45 steps/s\n",
      "2020-10-31 10:52:43,485 - root - INFO: steps 81000, 927.75 steps/s\n",
      "2020-10-31 10:52:44,610 - root - INFO: steps 82000, 890.39 steps/s\n",
      "2020-10-31 10:52:45,730 - root - INFO: steps 83000, 894.33 steps/s\n",
      "2020-10-31 10:52:46,814 - root - INFO: steps 84000, 923.95 steps/s\n",
      "2020-10-31 10:52:47,902 - root - INFO: steps 85000, 920.83 steps/s\n",
      "2020-10-31 10:52:49,001 - root - INFO: steps 86000, 911.12 steps/s\n",
      "2020-10-31 10:52:50,145 - root - INFO: steps 87000, 875.44 steps/s\n",
      "2020-10-31 10:52:51,249 - root - INFO: steps 88000, 907.02 steps/s\n",
      "2020-10-31 10:52:52,379 - root - INFO: steps 89000, 886.16 steps/s\n",
      "2020-10-31 10:52:53,505 - root - INFO: steps 90000, 889.86 steps/s\n",
      "2020-10-31 10:52:54,584 - root - INFO: steps 91000, 927.95 steps/s\n",
      "2020-10-31 10:52:55,632 - root - INFO: steps 92000, 955.94 steps/s\n",
      "2020-10-31 10:52:56,642 - root - INFO: steps 93000, 991.39 steps/s\n",
      "2020-10-31 10:52:57,664 - root - INFO: steps 94000, 980.05 steps/s\n",
      "2020-10-31 10:52:58,692 - root - INFO: steps 95000, 974.09 steps/s\n",
      "2020-10-31 10:52:59,813 - root - INFO: steps 96000, 893.32 steps/s\n",
      "2020-10-31 10:53:00,943 - root - INFO: steps 97000, 886.17 steps/s\n",
      "2020-10-31 10:53:02,071 - root - INFO: steps 98000, 888.32 steps/s\n",
      "2020-10-31 10:53:03,160 - root - INFO: steps 99000, 919.71 steps/s\n",
      "2020-10-31 10:53:04,253 - root - INFO: steps 100000, 915.76 steps/s\n"
     ]
    }
   ],
   "source": [
    "avdsr = avdsr_feature(game='FourRoomsMatrixNoTerm', agents=[agent], choice=0)"
   ]
  },
  {
   "cell_type": "code",
   "execution_count": 7,
   "metadata": {},
   "outputs": [
    {
     "data": {
      "image/png": "[encoded data removed]",
      "text/plain": [
       "<Figure size 432x288 with 1 Axes>"
      ]
     },
     "metadata": {
      "needs_background": "light"
     },
     "output_type": "display_data"
    },
    {
     "data": {
      "text/plain": [
       "(Text(0.5, 1.0, '5e4 timesteps, smoothing=100'), None)"
      ]
     },
     "execution_count": 7,
     "metadata": {},
     "output_type": "execute_result"
    }
   ],
   "source": [
    "loss_lr_em3 = avdsr.loss_vec\n",
    "kernel = 100\n",
    "plt.plot(convolve(avdsr.loss_vec, kernel))\n",
    "plt.title('5e4 timesteps, smoothing=' + str(kernel)), plt.show()\n",
    "# plt.subplot(122), plt.plot(avdsr.retu)"
   ]
  },
  {
   "cell_type": "code",
   "execution_count": 8,
   "metadata": {},
   "outputs": [
    {
     "data": {
      "image/png": "[encoded data removed]",
      "text/plain": [
       "<Figure size 432x288 with 1 Axes>"
      ]
     },
     "metadata": {
      "needs_background": "light"
     },
     "output_type": "display_data"
    },
    {
     "data": {
      "image/png": "[encoded data removed]",
      "text/plain": [
       "<Figure size 600x400 with 8 Axes>"
      ]
     },
     "metadata": {
      "needs_background": "light"
     },
     "output_type": "display_data"
    }
   ],
   "source": [
    "from deep_rl.component.fourrooms import FourRoomsMatrix\n",
    "env = FourRoomsMatrix()\n",
    "state = env.reset()\n",
    "env.step(env.action_space.sample())\n",
    "env.step(env.action_space.sample())\n",
    "env.step(env.action_space.sample())\n",
    "# env.current_cell = (5,5)\n",
    "state, _, _, _ = env.step(env.action_space.sample())\n",
    "plt.imshow(env.render()); plt.title('input state'), plt.show()\n",
    "_, out, _ = avdsr.network(tensor(state).unsqueeze(0))\n",
    "\n",
    "dirs = {0: 'up', 1: 'down', 2:'left', 3:'right'}\n",
    "\n",
    "plt.figure(dpi=100)\n",
    "psi = out.detach().numpy()\n",
    "for i in range(4):\n",
    "    psi_a = psi[0,i,:]\n",
    "    plt.subplot(2,2,i+1)\n",
    "    plt.imshow(psi_a.reshape((13,13)))\n",
    "    plt.title(dirs[i])\n",
    "    plt.colorbar()\n",
    "\n",
    "plt.show()"
   ]
  },
  {
   "cell_type": "code",
   "execution_count": 9,
   "metadata": {},
   "outputs": [
    {
     "data": {
      "text/plain": [
       "169"
      ]
     },
     "execution_count": 9,
     "metadata": {},
     "output_type": "execute_result"
    }
   ],
   "source": [
    "params_count(avdsr.network.psi2q)"
   ]
  },
  {
   "cell_type": "markdown",
   "metadata": {},
   "source": [
    "### Comparing performance:\n",
    "\n",
    "Likely to improve if DSR is trained for longer with a smaller learning rate\n",
    "\n",
    "- DQN: 169 -> 676 -> 4\n",
    "- avDSR: 169 -> 676 -> 4"
   ]
  },
  {
   "cell_type": "code",
   "execution_count": 10,
   "metadata": {},
   "outputs": [],
   "source": [
    "def dsr_feature_init(ref,**kwargs):\n",
    "    generate_tag(kwargs)\n",
    "    kwargs.setdefault('log_level', 0)\n",
    "    config = Config()\n",
    "    config.merge(kwargs)\n",
    "\n",
    "    config.task_fn = lambda: Task(config.game)\n",
    "    config.eval_env = config.task_fn()\n",
    "    config.c = 1\n",
    "\n",
    "    config.optimizer_fn = lambda params: torch.optim.RMSprop(params, 0.001)\n",
    "    config.network_fn = lambda: SRNet(config.action_dim, SRIdentityBody(config.state_dim), config=config.style)\n",
    "    config.replay_fn = lambda: AsyncReplay(memory_size=int(1e5), batch_size=10)\n",
    "\n",
    "    config.random_action_prob = LinearSchedule(1.0, 0.1, 3e4)\n",
    "    config.discount = 0.99\n",
    "    config.target_network_update_freq = 200\n",
    "    config.exploration_steps = 0\n",
    "    # config.double_q = True\n",
    "    config.double_q = False\n",
    "    config.sgd_update_frequency = 4\n",
    "    config.gradient_clip = 5\n",
    "    config.eval_interval = int(5e3)\n",
    "    config.max_steps = 5e4\n",
    "    config.async_actor = False\n",
    "    \n",
    "    agent = DSRAgent(config)\n",
    "    #run_steps function below\n",
    "    config = agent.config\n",
    "    agent_name = agent.__class__.__name__\n",
    "    if(ref is not None):\n",
    "        print(agent.network.load_state_dict(ref.network.state_dict(), strict=False))\n",
    "    t0 = time.time()\n",
    "    while True:\n",
    "        if config.save_interval and not agent.total_steps % config.save_interval:\n",
    "            agent.save('data/%s-%s-%d' % (agent_name, config.tag, agent.total_steps))\n",
    "        if config.log_interval and not agent.total_steps % config.log_interval:\n",
    "#             agent.logger.info('steps %d, %.2f steps/s' % (agent.total_steps, config.log_interval / (time.time() - t0)))\n",
    "            t0 = time.time()\n",
    "        if config.eval_interval and not agent.total_steps % config.eval_interval:\n",
    "            agent.eval_episodes()\n",
    "        if config.max_steps and agent.total_steps >= config.max_steps:\n",
    "            return agent\n",
    "            break\n",
    "#         import pdb; pdb.set_trace()\n",
    "        agent.step()\n",
    "        agent.switch_task()\n",
    "        \n",
    "    return agent"
   ]
  },
  {
   "cell_type": "code",
   "execution_count": 11,
   "metadata": {},
   "outputs": [],
   "source": [
    "def runNAgents(function, runs, store=True, freeze=0, ref=None, style=0):\n",
    "    r_dqn = []; t_dqn = []\n",
    "    if(store):\n",
    "        agents = []\n",
    "    for i in trange(runs, desc='runs'): \n",
    "        agent = function(game='FourRoomsMatrix', freeze=freeze, ref=ref, style=style)\n",
    "        rewards = np.array(agent.returns)\n",
    "        t_dqn.append(rewards[:,0])\n",
    "        r_dqn.append(rewards[:,1])\n",
    "        if(store):\n",
    "            agents.append(agent)\n",
    "            \n",
    "    if(store):\n",
    "        return agents, t_dqn, r_dqn\n",
    "    \n",
    "    return t_dqn, r_dqn"
   ]
  },
  {
   "cell_type": "code",
   "execution_count": 15,
   "metadata": {},
   "outputs": [
    {
     "name": "stderr",
     "output_type": "stream",
     "text": [
      "runs:   0%|          | 0/2 [00:00<?, ?it/s]"
     ]
    },
    {
     "name": "stdout",
     "output_type": "stream",
     "text": [
      "IncompatibleKeys(missing_keys=[], unexpected_keys=[])\n"
     ]
    },
    {
     "name": "stderr",
     "output_type": "stream",
     "text": [
      "2020-10-31 10:55:20,144 - root - INFO: steps 0, episodic_return_test -180.30(18.69)\n",
      "2020-10-31 10:55:26,958 - root - INFO: steps 5000, episodic_return_test -160.20(25.17)\n",
      "2020-10-31 10:55:33,883 - root - INFO: steps 10000, episodic_return_test -140.40(28.79)\n",
      "2020-10-31 10:55:40,495 - root - INFO: steps 15000, episodic_return_test -63.90(28.18)\n",
      "2020-10-31 10:55:47,230 - root - INFO: steps 20000, episodic_return_test -103.00(30.69)\n",
      "2020-10-31 10:55:53,833 - root - INFO: steps 25000, episodic_return_test -6.60(1.09)\n",
      "2020-10-31 10:56:00,344 - root - INFO: steps 30000, episodic_return_test -8.40(1.48)\n",
      "2020-10-31 10:56:06,813 - root - INFO: steps 35000, episodic_return_test -6.20(1.55)\n",
      "2020-10-31 10:56:13,340 - root - INFO: steps 40000, episodic_return_test -7.70(1.34)\n",
      "2020-10-31 10:56:20,158 - root - INFO: steps 45000, episodic_return_test -9.70(1.68)\n",
      "2020-10-31 10:56:27,074 - root - INFO: steps 50000, episodic_return_test -6.80(0.81)\n",
      "runs:  50%|█████     | 1/2 [01:07<01:07, 67.55s/it]"
     ]
    },
    {
     "name": "stdout",
     "output_type": "stream",
     "text": [
      "IncompatibleKeys(missing_keys=[], unexpected_keys=[])\n"
     ]
    },
    {
     "name": "stderr",
     "output_type": "stream",
     "text": [
      "2020-10-31 10:56:27,713 - root - INFO: steps 0, episodic_return_test -180.30(18.69)\n",
      "2020-10-31 10:56:34,561 - root - INFO: steps 5000, episodic_return_test -82.50(30.34)\n",
      "2020-10-31 10:56:41,114 - root - INFO: steps 10000, episodic_return_test -43.40(24.77)\n",
      "2020-10-31 10:56:47,903 - root - INFO: steps 15000, episodic_return_test -63.90(28.18)\n",
      "2020-10-31 10:56:54,632 - root - INFO: steps 20000, episodic_return_test -44.60(24.59)\n",
      "2020-10-31 10:57:01,272 - root - INFO: steps 25000, episodic_return_test -4.90(0.73)\n",
      "2020-10-31 10:57:07,767 - root - INFO: steps 30000, episodic_return_test -5.30(1.00)\n",
      "2020-10-31 10:57:14,378 - root - INFO: steps 35000, episodic_return_test -6.40(1.39)\n",
      "2020-10-31 10:57:20,994 - root - INFO: steps 40000, episodic_return_test -8.50(1.61)\n",
      "2020-10-31 10:57:27,748 - root - INFO: steps 45000, episodic_return_test -9.70(1.16)\n",
      "2020-10-31 10:57:34,703 - root - INFO: steps 50000, episodic_return_test -6.50(1.15)\n",
      "runs: 100%|██████████| 2/2 [02:15<00:00, 67.57s/it]\n",
      "runs:   0%|          | 0/2 [00:00<?, ?it/s]"
     ]
    },
    {
     "name": "stdout",
     "output_type": "stream",
     "text": [
      "IncompatibleKeys(missing_keys=['psi2q.layers.0.weight', 'psi2q.layers.0.bias'], unexpected_keys=['psi2q.w'])\n"
     ]
    },
    {
     "name": "stderr",
     "output_type": "stream",
     "text": [
      "2020-10-31 10:57:35,455 - root - INFO: steps 0, episodic_return_test -200.00(0.00)\n",
      "2020-10-31 10:57:42,732 - root - INFO: steps 5000, episodic_return_test -160.50(24.98)\n",
      "2020-10-31 10:57:49,816 - root - INFO: steps 10000, episodic_return_test -82.20(30.42)\n",
      "2020-10-31 10:57:56,702 - root - INFO: steps 15000, episodic_return_test -26.70(18.31)\n",
      "2020-10-31 10:58:03,572 - root - INFO: steps 20000, episodic_return_test -24.60(18.50)\n",
      "2020-10-31 10:58:10,434 - root - INFO: steps 25000, episodic_return_test -10.50(1.13)\n",
      "2020-10-31 10:58:17,368 - root - INFO: steps 30000, episodic_return_test -7.80(1.78)\n",
      "2020-10-31 10:58:24,192 - root - INFO: steps 35000, episodic_return_test -7.10(1.24)\n",
      "2020-10-31 10:58:31,073 - root - INFO: steps 40000, episodic_return_test -10.40(1.58)\n",
      "2020-10-31 10:58:38,060 - root - INFO: steps 45000, episodic_return_test -8.80(1.29)\n",
      "2020-10-31 10:58:45,043 - root - INFO: steps 50000, episodic_return_test -63.20(28.33)\n",
      "runs:  50%|█████     | 1/2 [01:10<01:10, 70.34s/it]"
     ]
    },
    {
     "name": "stdout",
     "output_type": "stream",
     "text": [
      "IncompatibleKeys(missing_keys=['psi2q.layers.0.weight', 'psi2q.layers.0.bias'], unexpected_keys=['psi2q.w'])\n"
     ]
    },
    {
     "name": "stderr",
     "output_type": "stream",
     "text": [
      "2020-10-31 10:58:45,829 - root - INFO: steps 0, episodic_return_test -200.00(0.00)\n",
      "2020-10-31 10:58:53,176 - root - INFO: steps 5000, episodic_return_test -180.10(18.88)\n",
      "2020-10-31 10:59:00,380 - root - INFO: steps 10000, episodic_return_test -122.00(30.21)\n",
      "2020-10-31 10:59:07,452 - root - INFO: steps 15000, episodic_return_test -84.10(29.94)\n",
      "2020-10-31 10:59:14,282 - root - INFO: steps 20000, episodic_return_test -10.40(1.42)\n",
      "2020-10-31 10:59:21,168 - root - INFO: steps 25000, episodic_return_test -24.80(18.48)\n",
      "2020-10-31 10:59:28,353 - root - INFO: steps 30000, episodic_return_test -121.40(30.45)\n",
      "2020-10-31 10:59:35,484 - root - INFO: steps 35000, episodic_return_test -84.50(29.83)\n",
      "2020-10-31 10:59:42,526 - root - INFO: steps 40000, episodic_return_test -27.20(18.27)\n",
      "2020-10-31 10:59:49,388 - root - INFO: steps 45000, episodic_return_test -6.90(1.42)\n",
      "2020-10-31 10:59:56,240 - root - INFO: steps 50000, episodic_return_test -7.70(1.57)\n",
      "runs: 100%|██████████| 2/2 [02:21<00:00, 70.60s/it]\n"
     ]
    }
   ],
   "source": [
    "r_c0 = runNAgents(dsr_feature_init, runs=2, freeze=2, ref=avdsr, style=0)\n",
    "r_c1 = runNAgents(dsr_feature_init, runs=2, freeze=2, ref=avdsr, style=1)\n",
    "r_dqn_base_16 = runNAgents(dqn_feature, runs=2)"
   ]
  },
  {
   "cell_type": "code",
   "execution_count": 16,
   "metadata": {},
   "outputs": [],
   "source": [
    "def plot_rewards(rewards, plot_seperate=True , clip=50000, title='unnamed'):\n",
    "    smooth = 5000\n",
    "    \n",
    "    colors = ['red', 'blue', 'green', 'm', 'k', 'y', '#999999']\n",
    "    \n",
    "    plt.figure(figsize=(16,6), dpi=200)\n",
    "    if(plot_seperate):\n",
    "        for k, v in rewards.items():\n",
    "            for t, r in zip(v[0], v[1]):\n",
    "                plt.plot(t, r, label=k)\n",
    "        plt.legend(), plt.show()\n",
    "        return\n",
    "    \n",
    "    for j, (k, v) in enumerate(rewards.items()):\n",
    "        r_vec = np.zeros((len(v[0]), clip-smooth+1))\n",
    "        for i, (t, r) in enumerate(zip(v[0], v[1])):\n",
    "            r_vec[i,:] = convolve(np.interp(np.arange(clip), t, r), smooth)\n",
    "    \n",
    "        mean = np.mean(np.array(r_vec), axis=0)\n",
    "        std = np.std(np.array(r_vec), axis=0)\n",
    "        plt.plot(mean, label=k, color=colors[j])\n",
    "        plt.fill_between(np.arange(0, len(mean)), mean+std, mean-std, facecolor=colors[j], alpha=0.3)\n",
    "    \n",
    "    plt.xlabel('timesteps'), plt.ylabel('episodic returns')\n",
    "    plt.title(title)\n",
    "    plt.legend(loc='lower right'), plt.show()"
   ]
  },
  {
   "cell_type": "code",
   "execution_count": null,
   "metadata": {},
   "outputs": [],
   "source": [
    "rewards_dict = {'DQN (h=(16,))': r_dqn_base_16[1:],\n",
    "                'APSF($\\pi_{\\epsilon=1}$) - 169 parameters': r_c0[1:],\n",
    "                'APSF($\\pi_{\\epsilon=1}$) - 2708 parameters': r_c1[1:],\n",
    "               }\n",
    "\n",
    "plot_rewards(rewards_dict, plot_seperate=False, title='Policy-general SFs: 2 runs on 3rooms(h) env')"
   ]
  },
  {
   "cell_type": "code",
   "execution_count": null,
   "metadata": {},
   "outputs": [],
   "source": []
  }
 ],
 "metadata": {
  "kernelspec": {
   "display_name": "Python 3 (conda_env)",
   "language": "python",
   "name": "conda_env"
  },
  "language_info": {
   "codemirror_mode": {
    "name": "ipython",
    "version": 3
   },
   "file_extension": ".py",
   "mimetype": "text/x-python",
   "name": "python",
   "nbconvert_exporter": "python",
   "pygments_lexer": "ipython3",
   "version": "3.6.10"
  }
 },
 "nbformat": 4,
 "nbformat_minor": 4
}
